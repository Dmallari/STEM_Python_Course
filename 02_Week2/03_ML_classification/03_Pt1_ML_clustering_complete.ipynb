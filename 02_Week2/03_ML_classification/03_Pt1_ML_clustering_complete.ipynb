{
  "nbformat": 4,
  "nbformat_minor": 0,
  "metadata": {
    "colab": {
      "name": "03_Pt1_ML_clustering_complete.ipynb",
      "provenance": [],
      "collapsed_sections": []
    },
    "kernelspec": {
      "name": "python3",
      "display_name": "Python 3"
    }
  },
  "cells": [
    {
      "cell_type": "markdown",
      "metadata": {
        "id": "2ZnjFtKPqhcz",
        "colab_type": "text"
      },
      "source": [
        "# Python for STEM - Week 2 (Advanced)  \n",
        "\n",
        "## Day 3 - Part 1: Unsupervised learning - clustering\n",
        "\n",
        "In this notebook, we will focus on examples of unsupervised machine learning. More specifically, we will be doing clustering using Scikit-learn, one of the machine learning packages in Python. Before we start, here we first import all the packages that we need for this notebook. \n",
        "\n",
        "All the machine learning functions we will use in Day 3 and Day 4 all comes from [scikit-learn](https://scikit-learn.org/stable/index.html). You can find very detailed descriptions on many machine learning models included in the package user guide and various examples. This would be a good place to start when you want to adopt machine learning for your own research/work.  \n",
        "\n",
        "\n"
      ]
    },
    {
      "cell_type": "code",
      "metadata": {
        "id": "gkWCpoG4qasM",
        "colab_type": "code",
        "colab": {}
      },
      "source": [
        "## In this cell, we import all the packages needed for this notebook\n",
        "import numpy as np                  ## packages for data handling\n",
        "import pandas as pd                 \n",
        "from scipy.spatial.distance import cdist \n",
        "import matplotlib.pyplot as plt     ## packages for visualization \n",
        "import seaborn as sbn "
      ],
      "execution_count": 16,
      "outputs": []
    },
    {
      "cell_type": "markdown",
      "metadata": {
        "id": "1J9Lh3hnqdHQ",
        "colab_type": "text"
      },
      "source": [
        "## Data ingest  \n",
        "In this notebook, we will use a dataset from geography/remote sensing. The data includes 1875 data points (locations) in the western North Carolina (Asheville region). Each row of the data contains the information of a point with its latitude/longitude, land cover type (forest, crop, urban, or water), and the surface reflectance data of six channels from the OLI sensor onboard USGS/NASA Land resource satellite Landsat-8. The reflectance data provide unique feature of the land surface as seen by the satellite sensor, which allows geographer understand how the surface is changing through time. To find more information about the data and satellite, you can visit USGS website about [Landsat-8 OLI data.](https://www.usgs.gov/land-resources/nli/landsat/landsat-8?qt-science_support_page_related_con=0#qt-science_support_page_related_con)"
      ]
    },
    {
      "cell_type": "code",
      "metadata": {
        "id": "c948Q9kIsH_G",
        "colab_type": "code",
        "colab": {}
      },
      "source": [
        "## First we use pandas to read in the comma separated values (CSV) file\n",
        "datafile = 'https://raw.githubusercontent.com/uofscphysics/STEM_Python_Course/Summer2020/02_Week2/Data/03_land_use_land_cover_asheville.csv'\n",
        "AVLData = pd.read_csv(datafile, index_col=None)\n",
        "\n",
        "## We will check the first five rows of the data to have initial understadning of our data\n",
        "print( AVLData.head() )"
      ],
      "execution_count": null,
      "outputs": []
    },
    {
      "cell_type": "markdown",
      "metadata": {
        "id": "twKa9vtGvC_H",
        "colab_type": "text"
      },
      "source": [
        "In this dataset, **Class** refers to the land cover type, **B1** ~ **B6** are the surface reflectances of the sixe OLI channels. The table below explains what the class code represents.\n",
        "\n",
        "| Class No. | Land Cover Type |\n",
        "|-:|-:|\n",
        "|0|Forest| \n",
        "|1|Crop|\n",
        "|2|Development/Urban|\n",
        "|3|Water|\n",
        "\n",
        "Additionally, the following table gives us a quick explaination of what are the six OLI channels.  \n",
        "\n",
        "| Channel No. | Channel Name | Wavelength |\n",
        "|-:|-:|:-:|\n",
        "|B1|Coastal/Areasol|0.433 – 0.453 μm| \n",
        "|B2|Blue|0.450 – 0.515 μm|\n",
        "|B3|Green|0.525 – 0.600 μm|\n",
        "|B4|Red|0.630 – 0.680 μm|\n",
        "|B5|Near Infrared|0.845 – 0.885 μm|\n",
        "|B6|Short Wavelength Infrared|1.560 – 1.660 μm|  \n",
        "\n",
        "Typically, refletance value is between 0 and 1, describing the percentage of light reflected by the surface. The reflectance value in our data is the scaled value between 0 and 10000. You can simply convert it back to regular reflectance by multiplying 0.0001.   \n"
      ]
    },
    {
      "cell_type": "markdown",
      "metadata": {
        "id": "Wimfgdw5ySx1",
        "colab_type": "text"
      },
      "source": [
        "In this notebook, we are doing clustering, so the **Class** information is not relevant because we are trying to guess how many clusters that we have based on this dataset. So let's assume that we do not have the land cover information."
      ]
    },
    {
      "cell_type": "code",
      "metadata": {
        "id": "QusheEMHuqPq",
        "colab_type": "code",
        "colab": {}
      },
      "source": [
        "## Now we have a simple matrix with six columns (attributes)\n",
        "## X is the new pandas data.frame with only the six channel reflectance\n",
        "X = AVLData.iloc[:,3:]\n",
        "print( X.head() )\n",
        "## We are now looking at the pairwise scatter plots between these six channels\n",
        "## using seaborn.pairplot function to look at them in one bix plot.\n",
        "## We are using \"alpha\" key word to change the transparency for the dots since\n",
        "## there are many overlapping amongst the data.\n",
        "sbn.pairplot(X, diag_kind = 'kde',\n",
        "             plot_kws = {'alpha': 0.5, 's': 30, 'edgecolor': 'k'},\n",
        "             height = 2)"
      ],
      "execution_count": null,
      "outputs": []
    },
    {
      "cell_type": "markdown",
      "metadata": {
        "id": "HY55QlVSVJ-0",
        "colab_type": "text"
      },
      "source": [
        "## Feature transformation/extraction\n",
        "\n",
        "As we can see from the pairwise scatter plots, the current six channels share some strong correlation amongst them. Can we find more useful features based on these six original channels? \n",
        "\n",
        "Feature transformation/extraction is the process to reduce the dimensionality of the data to explain the most of the variances in the data. Principle Component Analysis (PCA) is one of these techniques."
      ]
    },
    {
      "cell_type": "code",
      "metadata": {
        "id": "RJsDigGOypOc",
        "colab_type": "code",
        "colab": {}
      },
      "source": [
        "## Using PCA function from scikit-learn to perform feature transformation\n",
        "from sklearn.decomposition import PCA\n",
        "pca_AVL = PCA(n_components=6)\n",
        "principalComponents_X = pca_AVL.fit_transform(X)\n",
        "print( principalComponents_X )\n",
        "## The outcome of PCA is a ndarry here"
      ],
      "execution_count": null,
      "outputs": []
    },
    {
      "cell_type": "code",
      "metadata": {
        "id": "l5KKAs1CX6rF",
        "colab_type": "code",
        "colab": {}
      },
      "source": [
        "\n",
        "## we convert the ndarry to pandas data.frame with specified column names\n",
        "## for PCA\n",
        "PCA_df_X = pd.DataFrame(principalComponents_X, \n",
        "                        columns=['PC1', 'PC2', 'PC3', 'PC4', 'PC5', 'PC6'])\n",
        "print( PCA_df_X )\n"
      ],
      "execution_count": null,
      "outputs": []
    },
    {
      "cell_type": "code",
      "metadata": {
        "id": "82G6JqPO3PaB",
        "colab_type": "code",
        "colab": {}
      },
      "source": [
        "## We now want to know how much variance of the data is explained by each\n",
        "## of the principle components.\n",
        "with np.printoptions(precision=4, suppress=True):\n",
        "    print('Explained variation per principal component: {}'.\\\n",
        "          format(pca_AVL.explained_variance_ratio_) )"
      ],
      "execution_count": null,
      "outputs": []
    },
    {
      "cell_type": "code",
      "metadata": {
        "id": "8As6B9BCXm1F",
        "colab_type": "code",
        "colab": {}
      },
      "source": [
        "## We can now visualize the first three components via the pairwise scatter \n",
        "## plot that we have done earlier.\n",
        "sbn.pairplot(PCA_df_X.iloc[:,:3], diag_kind = 'kde',\n",
        "             plot_kws = {'alpha': 0.5, 's': 30, 'edgecolor': 'k', 'color': 'darkgreen'},\n",
        "             height = 3)"
      ],
      "execution_count": null,
      "outputs": []
    },
    {
      "cell_type": "markdown",
      "metadata": {
        "id": "YD4iMwXNpmoT",
        "colab_type": "text"
      },
      "source": [
        "## k-Means clustering\n",
        "\n"
      ]
    },
    {
      "cell_type": "code",
      "metadata": {
        "id": "hf2z0Je74SNN",
        "colab_type": "code",
        "colab": {}
      },
      "source": [
        "## Generate cluster results using KMeans in scikit-learn\n",
        "from sklearn.cluster import KMeans  ## package for k-means clustering\n",
        "from sklearn import metrics \n",
        "kmeanModel = KMeans(n_clusters=8, init='k-means++', n_init=10,\n",
        "                    random_state=42) # using random_state to ensure reproducible\n",
        "kmeanModel.fit(PCA_df_X)\n",
        "## Now we have a cluster model and the cluster label for each data points\n",
        "clusterLabel = kmeanModel.labels_\n",
        "## Print out the unique values of our cluster label\n",
        "print ( np.unique(clusterLabel) )"
      ],
      "execution_count": null,
      "outputs": []
    },
    {
      "cell_type": "markdown",
      "metadata": {
        "id": "jArpYHlw6CBA",
        "colab_type": "text"
      },
      "source": [
        "How do we know what k value is the best value? Let's try different k values and use the \"Elbow rule\" to find a reasonable k value for our clustering task."
      ]
    },
    {
      "cell_type": "code",
      "metadata": {
        "id": "s0xOL2Oapt42",
        "colab_type": "code",
        "colab": {}
      },
      "source": [
        "## Average of the squared distances from the cluster centers of the respective clusters\n",
        "distortions = [] \n",
        "## Sum of squared distances of samples to their closest cluster center\n",
        "inertias = [] \n",
        "## Candidate number of clusters (k)\n",
        "Kval = range(1,10) \n",
        "  \n",
        "for k in Kval: \n",
        "    #Building and fitting the model \n",
        "    kmeanModel = KMeans(n_clusters=k, random_state=42) \n",
        "    kmeanModel.fit(PCA_df_X)     \n",
        "\n",
        "    ## Calculate distortions using Euclidean distance with PCA tranformed data \n",
        "    distortions.append(sum(np.min(cdist(PCA_df_X, \n",
        "                                        kmeanModel.cluster_centers_, \n",
        "                                        'euclidean'),axis=1)) / PCA_df_X.shape[0]) \n",
        "    ## Calculate inertias (part of the KMeans output)\n",
        "    inertias.append(kmeanModel.inertia_) \n",
        "  "
      ],
      "execution_count": null,
      "outputs": []
    },
    {
      "cell_type": "code",
      "metadata": {
        "id": "ym8tFvXMqty9",
        "colab_type": "code",
        "colab": {}
      },
      "source": [
        "## Create the Elbow plot between distortions and different K values\n",
        "plt.plot(Kval, distortions, 'bx-') \n",
        "plt.xlabel('Values of K') \n",
        "plt.ylabel('Distortion') \n",
        "plt.title('The Elbow Method using Distortion') \n",
        "plt.show() "
      ],
      "execution_count": null,
      "outputs": []
    },
    {
      "cell_type": "code",
      "metadata": {
        "id": "vyT_X4ieq7ui",
        "colab_type": "code",
        "colab": {}
      },
      "source": [
        "## Create the Elbow plot between inertias and different K values\n",
        "plt.plot(Kval, inertias, 'bx-') \n",
        "plt.xlabel('Values of K') \n",
        "plt.ylabel('Inertia') \n",
        "plt.title('The Elbow Method using Inertia') \n",
        "plt.show() "
      ],
      "execution_count": null,
      "outputs": []
    },
    {
      "cell_type": "code",
      "metadata": {
        "id": "QZA-v331rokQ",
        "colab_type": "code",
        "colab": {}
      },
      "source": [
        "## Fit final K-means clustering model with k = 4\n",
        "kmeans = KMeans(init='k-means++', n_clusters=4, n_init=10, random_state=42)\n",
        "kmeans.fit(PCA_df_X)\n",
        "## Create the final cluter labels for the data\n",
        "AVLcluster = kmeans.predict(PCA_df_X)\n"
      ],
      "execution_count": null,
      "outputs": []
    },
    {
      "cell_type": "code",
      "metadata": {
        "id": "-PWGcfBY1Txe",
        "colab_type": "code",
        "colab": {}
      },
      "source": [
        "# We are now visualizing our cluster result in our feature space\n",
        "# Each cluster is represented using different colors\n",
        "# Define color for each class lables\n",
        "colormap = np.array([\"darkgreen\", \"orange\", \"grey\", \"royalblue\"])\n",
        "cpt = colormap[np.int_(AVLcluster)]\n",
        "\n",
        "# Initialize a new matplotlib figure and its axes object.\n",
        "fig, ax = plt.subplots()\n",
        "\n",
        "# Creating the scatter plot with multiple clusters\n",
        "scatter = ax.scatter(PCA_df_X[[\"PC1\"]], PCA_df_X[[\"PC2\"]], \n",
        "                     alpha=0.5, c=cpt)\n",
        "ax.set_xlabel(\"Principle Component 1\")\n",
        "ax.set_ylabel(\"Principle Component 2\")\n",
        "\n",
        "fig.show()"
      ],
      "execution_count": null,
      "outputs": []
    },
    {
      "cell_type": "code",
      "metadata": {
        "id": "8x2-ZZPKzfgM",
        "colab_type": "code",
        "colab": {}
      },
      "source": [
        ""
      ],
      "execution_count": null,
      "outputs": []
    }
  ]
}