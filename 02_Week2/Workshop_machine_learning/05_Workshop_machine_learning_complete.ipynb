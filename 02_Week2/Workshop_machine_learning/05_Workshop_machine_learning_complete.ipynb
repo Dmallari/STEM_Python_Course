{
  "nbformat": 4,
  "nbformat_minor": 0,
  "metadata": {
    "colab": {
      "name": "05_Workshop_machine_learning_complete",
      "provenance": []
    },
    "kernelspec": {
      "name": "python3",
      "display_name": "Python 3"
    }
  },
  "cells": [
    {
      "cell_type": "markdown",
      "metadata": {
        "id": "QyKkS9_rKXiQ",
        "colab_type": "text"
      },
      "source": [
        "## Introduction  \n",
        "\n",
        "In this mini workshop, we are going to learn some advanced features in [scikit-learn](https://scikit-learn.org/stable/user_guide.html) that can improve your undersanding and efficiency of machine learning.  \n",
        "\n",
        "This time, we will use a built-in dataset from scikit-learn as an example for our exercise. The dataset we are using is the [Boston house price](https://scikit-learn.org/stable/datasets/index.html#toy-datasets) dataset for regression modeling. \n",
        "\n",
        "Let's start the notebook with importing the package and the data.  "
      ]
    },
    {
      "cell_type": "code",
      "metadata": {
        "id": "ciogko39LjXo",
        "colab_type": "code",
        "colab": {
          "base_uri": "https://localhost:8080/",
          "height": 70
        },
        "outputId": "6a42f29e-6061-4b79-863a-c9536a10bfe2"
      },
      "source": [
        "import numpy as np\n",
        "import pandas as pd\n",
        "import matplotlib.pyplot as plt\n",
        "import seaborn as sbn\n",
        "from sklearn.datasets import load_boston"
      ],
      "execution_count": 2,
      "outputs": [
        {
          "output_type": "stream",
          "text": [
            "/usr/local/lib/python3.6/dist-packages/statsmodels/tools/_testing.py:19: FutureWarning: pandas.util.testing is deprecated. Use the functions in the public API at pandas.testing instead.\n",
            "  import pandas.util.testing as tm\n"
          ],
          "name": "stderr"
        }
      ]
    },
    {
      "cell_type": "code",
      "metadata": {
        "id": "YAGuiY1sKPYo",
        "colab_type": "code",
        "colab": {
          "base_uri": "https://localhost:8080/",
          "height": 34
        },
        "outputId": "f1b08f1e-34a6-42b8-8590-7767b4800106"
      },
      "source": [
        "X, y = load_boston(return_X_y=True)\n",
        "print(X.shape, y.shape)"
      ],
      "execution_count": 8,
      "outputs": [
        {
          "output_type": "stream",
          "text": [
            "(506, 13) (506,)\n"
          ],
          "name": "stdout"
        }
      ]
    },
    {
      "cell_type": "markdown",
      "metadata": {
        "id": "gNKe4xEoM53q",
        "colab_type": "text"
      },
      "source": [
        "It looks like we have 13 features that we  can use to create a predictive model for the target/output which is the house price in Boston."
      ]
    },
    {
      "cell_type": "markdown",
      "metadata": {
        "id": "UEzEgwz9NYx0",
        "colab_type": "text"
      },
      "source": [
        "## Pipeline  \n",
        "\n",
        "In the past two days, we are doing the model development step-by-step with the typical process of:\n",
        "\n",
        "1. Feature selection/transformation;\n",
        "2. Defining the model;\n",
        "3. Tunning model hyperparameters;\n",
        "\n",
        "This is a clear way to start our learning of each individual step. However, the code will look lengthy. In scikit-learn, you can create a model [pipeline](https://scikit-learn.org/stable/modules/compose.html#pipeline-chaining-estimators) to nest all model steps into a sequence and specifying the key words for each step. You can also implement grid search CV directly to your pipeline."
      ]
    },
    {
      "cell_type": "code",
      "metadata": {
        "id": "74HpXTr2OgMH",
        "colab_type": "code",
        "colab": {
          "base_uri": "https://localhost:8080/",
          "height": 319
        },
        "outputId": "87aa139b-cb78-46e5-f23b-2014c3360518"
      },
      "source": [
        "from sklearn.decomposition import PCA\n",
        "from sklearn.model_selection import GridSearchCV\n",
        "from sklearn.pipeline import Pipeline\n",
        "from sklearn.ensemble import RandomForestRegressor\n",
        "from sklearn.model_selection import KFold\n",
        "from sklearn.model_selection import train_test_split\n",
        "## First, let's review a traditional modeling process\n",
        "\n",
        "## Step 1. Data transformation - e.g., PCA\n",
        "## pcaModel = PCA()\n",
        "## pcaData = pcaModel.fit_transform(X)\n",
        "\n",
        "## Step 2. Defining the model\n",
        "## rfModel = RandomForestTRegressor(...)\n",
        "\n",
        "## Step 3. Gridsearch CV\n",
        "## gridsearch_obj = {\n",
        "##     rfModel,\n",
        "##     param_grid,\n",
        "##     cv,\n",
        "##     ...   \n",
        "## }\n",
        "\n",
        "## Step 4. fit the model/grid search\n",
        "\n",
        "## Step 5. find the best combo & final model\n",
        "\n",
        "## ...\n",
        "\n",
        "## Things can be simplified with pipeline by nesting these together\n",
        "pca = PCA()\n",
        "rfModel = RandomForestRegressor()\n",
        "\n",
        "## making the pipeline\n",
        "pipe = Pipeline(steps=[('reduce_dim', pca), ('regression', rfModel)])\n",
        "\n",
        "print( pipe )"
      ],
      "execution_count": 12,
      "outputs": [
        {
          "output_type": "stream",
          "text": [
            "Pipeline(memory=None,\n",
            "         steps=[('reduce_dim',\n",
            "                 PCA(copy=True, iterated_power='auto', n_components=None,\n",
            "                     random_state=None, svd_solver='auto', tol=0.0,\n",
            "                     whiten=False)),\n",
            "                ('regression',\n",
            "                 RandomForestRegressor(bootstrap=True, ccp_alpha=0.0,\n",
            "                                       criterion='mse', max_depth=None,\n",
            "                                       max_features='auto', max_leaf_nodes=None,\n",
            "                                       max_samples=None,\n",
            "                                       min_impurity_decrease=0.0,\n",
            "                                       min_impurity_split=None,\n",
            "                                       min_samples_leaf=1, min_samples_split=2,\n",
            "                                       min_weight_fraction_leaf=0.0,\n",
            "                                       n_estimators=100, n_jobs=None,\n",
            "                                       oob_score=False, random_state=None,\n",
            "                                       verbose=0, warm_start=False))],\n",
            "         verbose=False)\n"
          ],
          "name": "stdout"
        }
      ]
    },
    {
      "cell_type": "code",
      "metadata": {
        "id": "tBbvlkeKNXF4",
        "colab_type": "code",
        "colab": {
          "base_uri": "https://localhost:8080/",
          "height": 504
        },
        "outputId": "88ad1531-c5bd-4e1f-cc26-d20c62f458f5"
      },
      "source": [
        "## Now, le's say we want to change how many different PCA components we want to include in our final model \n",
        "## also, we want to change the number of estimators (trees) in our random forest\n",
        "param_grid = {\n",
        "    'reduce_dim__n_components': [6, 7, 8, 9, 10, 11, 12],\n",
        "    'regression__n_estimators': [50,100,200,300]\n",
        "}\n",
        "\n",
        "## now we can define the gridsearch object that we want (say with 10-fold cross validation)\n",
        "gridsearch_obj = GridSearchCV(\n",
        "    pipe,\n",
        "    param_grid,\n",
        "    cv=KFold(n_splits=10),\n",
        "    n_jobs=-1\n",
        ")\n",
        "\n",
        "X_train, X_test, y_train, y_test = train_test_split(X, y, test_size=0.25)\n",
        "print( X_train.shape, y_train.shape )\n",
        "print(gridsearch_obj)"
      ],
      "execution_count": 25,
      "outputs": [
        {
          "output_type": "stream",
          "text": [
            "(379, 13) (379,)\n",
            "GridSearchCV(cv=KFold(n_splits=10, random_state=None, shuffle=False),\n",
            "             error_score=nan,\n",
            "             estimator=Pipeline(memory=None,\n",
            "                                steps=[('reduce_dim',\n",
            "                                        PCA(copy=True, iterated_power='auto',\n",
            "                                            n_components=None,\n",
            "                                            random_state=None,\n",
            "                                            svd_solver='auto', tol=0.0,\n",
            "                                            whiten=False)),\n",
            "                                       ('regression',\n",
            "                                        RandomForestRegressor(bootstrap=True,\n",
            "                                                              ccp_alpha=0.0,\n",
            "                                                              criterion='mse',\n",
            "                                                              max_depth=None,\n",
            "                                                              max_fe...\n",
            "                                                              min_weight_fraction_leaf=0.0,\n",
            "                                                              n_estimators=100,\n",
            "                                                              n_jobs=None,\n",
            "                                                              oob_score=False,\n",
            "                                                              random_state=None,\n",
            "                                                              verbose=0,\n",
            "                                                              warm_start=False))],\n",
            "                                verbose=False),\n",
            "             iid='deprecated', n_jobs=-1,\n",
            "             param_grid={'reduce_dim__n_components': [6, 7, 8, 9, 10, 11, 12],\n",
            "                         'regression__n_estimators': [50, 100, 200, 300]},\n",
            "             pre_dispatch='2*n_jobs', refit=True, return_train_score=False,\n",
            "             scoring=None, verbose=0)\n"
          ],
          "name": "stdout"
        }
      ]
    },
    {
      "cell_type": "code",
      "metadata": {
        "id": "R2BoaIOTWetS",
        "colab_type": "code",
        "colab": {
          "base_uri": "https://localhost:8080/",
          "height": 487
        },
        "outputId": "1c4f7c68-445b-4bae-ae8b-d492a68c05b4"
      },
      "source": [
        "## Now we can fit the whole pipeline instead of just doing it step by step\n",
        "gridsearch_obj.fit(X_train, y_train)"
      ],
      "execution_count": 26,
      "outputs": [
        {
          "output_type": "execute_result",
          "data": {
            "text/plain": [
              "GridSearchCV(cv=KFold(n_splits=10, random_state=None, shuffle=False),\n",
              "             error_score=nan,\n",
              "             estimator=Pipeline(memory=None,\n",
              "                                steps=[('reduce_dim',\n",
              "                                        PCA(copy=True, iterated_power='auto',\n",
              "                                            n_components=None,\n",
              "                                            random_state=None,\n",
              "                                            svd_solver='auto', tol=0.0,\n",
              "                                            whiten=False)),\n",
              "                                       ('regression',\n",
              "                                        RandomForestRegressor(bootstrap=True,\n",
              "                                                              ccp_alpha=0.0,\n",
              "                                                              criterion='mse',\n",
              "                                                              max_depth=None,\n",
              "                                                              max_fe...\n",
              "                                                              min_weight_fraction_leaf=0.0,\n",
              "                                                              n_estimators=100,\n",
              "                                                              n_jobs=None,\n",
              "                                                              oob_score=False,\n",
              "                                                              random_state=None,\n",
              "                                                              verbose=0,\n",
              "                                                              warm_start=False))],\n",
              "                                verbose=False),\n",
              "             iid='deprecated', n_jobs=-1,\n",
              "             param_grid={'reduce_dim__n_components': [6, 7, 8, 9, 10, 11, 12],\n",
              "                         'regression__n_estimators': [50, 100, 200, 300]},\n",
              "             pre_dispatch='2*n_jobs', refit=True, return_train_score=False,\n",
              "             scoring=None, verbose=0)"
            ]
          },
          "metadata": {
            "tags": []
          },
          "execution_count": 26
        }
      ]
    },
    {
      "cell_type": "code",
      "metadata": {
        "id": "ghzS3vOHX8KA",
        "colab_type": "code",
        "colab": {
          "base_uri": "https://localhost:8080/",
          "height": 50
        },
        "outputId": "544ec855-32e1-4c36-dada-5c2f0fc33d0e"
      },
      "source": [
        "## Let's looks at what is the suggestion of the model structure\n",
        "print( gridsearch_obj.best_params_)\n",
        "print( gridsearch_obj.best_score_)"
      ],
      "execution_count": 27,
      "outputs": [
        {
          "output_type": "stream",
          "text": [
            "{'reduce_dim__n_components': 11, 'regression__n_estimators': 50}\n",
            "0.7767816443489\n"
          ],
          "name": "stdout"
        }
      ]
    },
    {
      "cell_type": "code",
      "metadata": {
        "id": "tEzMaVcTfvjf",
        "colab_type": "code",
        "colab": {
          "base_uri": "https://localhost:8080/",
          "height": 313
        },
        "outputId": "5f78081d-c44e-4ff5-8d52-1248afd8160b"
      },
      "source": [
        "## Now we can directly apply the model pipeline from the grid search \n",
        "## object to our testing data which will give us the best estimator\n",
        "## based on our grid search CV results.\n",
        "from sklearn.metrics import r2_score, mean_squared_error\n",
        "\n",
        "y_predicted = gridsearch_obj.predict(X_test)\n",
        "\n",
        "r2 = r2_score(y_test, y_predicted)\n",
        "rmse = np.sqrt(mean_squared_error(y_test, y_predicted))\n",
        "\n",
        "print(r2, rmse)\n",
        "\n",
        "## We can also add the scatter plot between predicted and test data\n",
        "plt.scatter(y_test, y_predicted)\n",
        "plt.plot([0,55],[0,55],'k--')\n",
        "plt.xlim(0,55)\n",
        "plt.ylim(0,55)\n",
        "plt.xlabel('True Median House Value (1,000 USD)')\n",
        "plt.ylabel('Predicted Median House Value (1,000 USD)')"
      ],
      "execution_count": 36,
      "outputs": [
        {
          "output_type": "stream",
          "text": [
            "0.7102048231329757 4.365109395135025\n"
          ],
          "name": "stdout"
        },
        {
          "output_type": "execute_result",
          "data": {
            "text/plain": [
              "Text(0, 0.5, 'Predicted Median House Value (1,000 USD)')"
            ]
          },
          "metadata": {
            "tags": []
          },
          "execution_count": 36
        },
        {
          "output_type": "display_data",
          "data": {
            "image/png": "[encoded data removed]",
            "text/plain": [
              "<Figure size 432x288 with 1 Axes>"
            ]
          },
          "metadata": {
            "tags": [],
            "needs_background": "light"
          }
        }
      ]
    },
    {
      "cell_type": "code",
      "metadata": {
        "id": "wDcmPp82jalS",
        "colab_type": "code",
        "colab": {}
      },
      "source": [
        "### Now it's your turn to try build your own pipeline for building a model \n",
        "### for this Boston Housing Price data using neural network.\n",
        "### For the hyperparameters, you can change both the number of hidden layers\n",
        "### for 1-layer and 2-layer models, as well as the activation function\n",
        "\n",
        "\n",
        "\n",
        "\n"
      ],
      "execution_count": null,
      "outputs": []
    },
    {
      "cell_type": "markdown",
      "metadata": {
        "id": "52a74KpVjzfe",
        "colab_type": "text"
      },
      "source": [
        "## Random Search for Hyperparameters\n",
        "\n",
        "In the previous exercise, we always use the grid search method to find the best model hyperparameters. This is a good method when you have a limited number of hyperparameters and small range of the parameters to tune. However, when we have a large parameter space for searching, the grid search can be really time consuming for large data sets. Sometimes, random search can help you reduce the computational need for that. We are going to use random forest model as our base model again here."
      ]
    },
    {
      "cell_type": "code",
      "metadata": {
        "id": "elGukx_ckc8M",
        "colab_type": "code",
        "colab": {
          "base_uri": "https://localhost:8080/",
          "height": 319
        },
        "outputId": "22c8c699-9807-4d42-ec7d-91398f0ab1a5"
      },
      "source": [
        "## define our base model pipeline\n",
        "pipebase = Pipeline(steps=[('reduce_dim', PCA(n_components=11)), \n",
        "                           ('regression', RandomForestRegressor())])\n",
        "print( pipebase )"
      ],
      "execution_count": 37,
      "outputs": [
        {
          "output_type": "stream",
          "text": [
            "Pipeline(memory=None,\n",
            "         steps=[('reduce_dim',\n",
            "                 PCA(copy=True, iterated_power='auto', n_components=11,\n",
            "                     random_state=None, svd_solver='auto', tol=0.0,\n",
            "                     whiten=False)),\n",
            "                ('regression',\n",
            "                 RandomForestRegressor(bootstrap=True, ccp_alpha=0.0,\n",
            "                                       criterion='mse', max_depth=None,\n",
            "                                       max_features='auto', max_leaf_nodes=None,\n",
            "                                       max_samples=None,\n",
            "                                       min_impurity_decrease=0.0,\n",
            "                                       min_impurity_split=None,\n",
            "                                       min_samples_leaf=1, min_samples_split=2,\n",
            "                                       min_weight_fraction_leaf=0.0,\n",
            "                                       n_estimators=100, n_jobs=None,\n",
            "                                       oob_score=False, random_state=None,\n",
            "                                       verbose=0, warm_start=False))],\n",
            "         verbose=False)\n"
          ],
          "name": "stdout"
        }
      ]
    },
    {
      "cell_type": "code",
      "metadata": {
        "id": "ZPBDMzSSk_JB",
        "colab_type": "code",
        "colab": {
          "base_uri": "https://localhost:8080/",
          "height": 272
        },
        "outputId": "83a68b65-60e5-44bc-bd03-c6b58635867b"
      },
      "source": [
        "from sklearn.model_selection import GridSearchCV, RandomizedSearchCV\n",
        "from time import time\n",
        "\n",
        "# Utility function to report best scores\n",
        "def report(results, n_top=3):\n",
        "    for i in range(1, n_top + 1):\n",
        "        candidates = np.flatnonzero(results['rank_test_score'] == i)\n",
        "        for candidate in candidates:\n",
        "            print(\"Model with rank: {0}\".format(i))\n",
        "            print(\"Mean validation score: {0:.3f} (std: {1:.3f})\"\n",
        "                  .format(results['mean_test_score'][candidate],\n",
        "                          results['std_test_score'][candidate]))\n",
        "            print(\"Parameters: {0}\".format(results['params'][candidate]))\n",
        "            print(\"\")\n",
        "\n",
        "## In this situation, we can define a grid for our search\n",
        "param_grid = {\n",
        "    'regression__n_estimators': np.linspace(10, 100, num=10, dtype='int16'),\n",
        "    'regression__max_features': np.linspace(3, 11, num=5, dtype='int16'),\n",
        "    'regression__min_samples_leaf': [1,3,5]\n",
        "}\n",
        "\n",
        "print(param_grid)\n",
        "\n",
        "## Now we can perform our grid search with 5-fold cross validation\n",
        "grid_search = GridSearchCV(pipebase, param_grid=param_grid,\n",
        "                           cv=KFold(n_splits=5))\n",
        "start = time()\n",
        "grid_search.fit(X_train, y_train)\n",
        "print(\"GridSearchCV took %.2f seconds for %d candidate parameter settings.\"\n",
        "      % (time() - start, len(grid_search.cv_results_['params'])))\n",
        "report(grid_search.cv_results_)\n",
        "\n"
      ],
      "execution_count": 45,
      "outputs": [
        {
          "output_type": "stream",
          "text": [
            "{'regression__n_estimators': array([ 10,  20,  30,  40,  50,  60,  70,  80,  90, 100], dtype=int16), 'regression__max_features': array([ 3,  5,  7,  9, 11], dtype=int16), 'regression__min_samples_leaf': [1, 3, 5]}\n",
            "GridSearchCV took 78.92 seconds for 150 candidate parameter settings.\n",
            "Model with rank: 1\n",
            "Mean validation score: 0.797 (std: 0.108)\n",
            "Parameters: {'regression__max_features': 11, 'regression__min_samples_leaf': 1, 'regression__n_estimators': 60}\n",
            "\n",
            "Model with rank: 2\n",
            "Mean validation score: 0.796 (std: 0.087)\n",
            "Parameters: {'regression__max_features': 9, 'regression__min_samples_leaf': 1, 'regression__n_estimators': 50}\n",
            "\n",
            "Model with rank: 3\n",
            "Mean validation score: 0.795 (std: 0.098)\n",
            "Parameters: {'regression__max_features': 9, 'regression__min_samples_leaf': 1, 'regression__n_estimators': 100}\n",
            "\n"
          ],
          "name": "stdout"
        }
      ]
    },
    {
      "cell_type": "code",
      "metadata": {
        "id": "hO2B-HU2nr8g",
        "colab_type": "code",
        "colab": {
          "base_uri": "https://localhost:8080/",
          "height": 54
        },
        "outputId": "abce2eef-c1d1-40ed-91d3-c517e06f57f2"
      },
      "source": [
        "## Now let's see how the random search will take for us\n",
        "import scipy.stats as stats\n",
        "## here we define the range for search first\n",
        "param_dist = {\n",
        "    'regression__n_estimators': stats.randint(10,100),\n",
        "    'regression__max_features': stats.randint(3,11),\n",
        "    'regression__min_samples_leaf': stats.randint(1,5) \n",
        "}\n",
        "print(param_dist)\n"
      ],
      "execution_count": 47,
      "outputs": [
        {
          "output_type": "stream",
          "text": [
            "{'regression__n_estimators': <scipy.stats._distn_infrastructure.rv_frozen object at 0x7f2262c94278>, 'regression__max_features': <scipy.stats._distn_infrastructure.rv_frozen object at 0x7f2262c94e48>, 'regression__min_samples_leaf': <scipy.stats._distn_infrastructure.rv_frozen object at 0x7f2262c940b8>}\n"
          ],
          "name": "stdout"
        }
      ]
    },
    {
      "cell_type": "code",
      "metadata": {
        "id": "mvBdl6rjpr8x",
        "colab_type": "code",
        "colab": {
          "base_uri": "https://localhost:8080/",
          "height": 235
        },
        "outputId": "d16d9f56-cb88-44f6-d53c-91b1be48e490"
      },
      "source": [
        "\n",
        "## run randomized search\n",
        "n_iter_search = 75\n",
        "random_search = RandomizedSearchCV(pipebase, param_distributions=param_dist,\n",
        "                                   n_iter=n_iter_search)\n",
        "start = time()\n",
        "random_search.fit(X_train, y_train)\n",
        "print(\"RandomizedSearchCV took %.2f seconds for %d candidates\"\n",
        "      \" parameter settings.\" % ((time() - start), n_iter_search))\n",
        "report(random_search.cv_results_)"
      ],
      "execution_count": 48,
      "outputs": [
        {
          "output_type": "stream",
          "text": [
            "RandomizedSearchCV took 38.93 seconds for 75 candidates parameter settings.\n",
            "Model with rank: 1\n",
            "Mean validation score: 0.795 (std: 0.085)\n",
            "Parameters: {'regression__max_features': 10, 'regression__min_samples_leaf': 1, 'regression__n_estimators': 76}\n",
            "\n",
            "Model with rank: 2\n",
            "Mean validation score: 0.788 (std: 0.097)\n",
            "Parameters: {'regression__max_features': 5, 'regression__min_samples_leaf': 1, 'regression__n_estimators': 32}\n",
            "\n",
            "Model with rank: 3\n",
            "Mean validation score: 0.784 (std: 0.101)\n",
            "Parameters: {'regression__max_features': 7, 'regression__min_samples_leaf': 1, 'regression__n_estimators': 82}\n",
            "\n"
          ],
          "name": "stdout"
        }
      ]
    },
    {
      "cell_type": "markdown",
      "metadata": {
        "id": "yeKqF2zQpvAk",
        "colab_type": "text"
      },
      "source": [
        "## Assessing feature importance  \n",
        "\n",
        "Assuming that we finally find our best random forest model. We want to know which features have higer importance than others. What we can do is to use the [permutation feature importance](https://scikit-learn.org/stable/modules/permutation_importance.html#) functionality in scikit-learn.\n"
      ]
    },
    {
      "cell_type": "code",
      "metadata": {
        "id": "J1-t7VxZqWTI",
        "colab_type": "code",
        "colab": {}
      },
      "source": [
        "## Now, let's use the model hyperparameter from our random search as the final model\n",
        "\n",
        "rfModel = RandomForestRegressor(n_estimators=76, min_samples_leaf=1, max_features=10)\n",
        "rfModel.fit(X_train, y_train)\n",
        "\n",
        "house = load_boston()\n",
        "## Let's calculate feature importance here\n",
        "from sklearn.inspection import permutation_importance\n",
        "r = permutation_importance(rfModel, X_test, y_test,\n",
        "                           n_repeats=30,\n",
        "                           random_state=0)\n",
        "\n",
        "print (r)"
      ],
      "execution_count": null,
      "outputs": []
    },
    {
      "cell_type": "code",
      "metadata": {
        "id": "jHO7LMsTrQi4",
        "colab_type": "code",
        "colab": {}
      },
      "source": [
        "## We want to visualize the ranking of individual features\n",
        "for i in r.importances_mean.argsort()[::-1]:\n",
        "    if r.importances_mean[i] - 2 * r.importances_std[i] > 0:\n",
        "        print(f\"{house.feature_names[i]:<8}\"\n",
        "              f\"{r.importances_mean[i]:.3f}\"\n",
        "              f\" +/- {r.importances_std[i]:.3f}\")\n",
        " "
      ],
      "execution_count": null,
      "outputs": []
    }
  ]
}