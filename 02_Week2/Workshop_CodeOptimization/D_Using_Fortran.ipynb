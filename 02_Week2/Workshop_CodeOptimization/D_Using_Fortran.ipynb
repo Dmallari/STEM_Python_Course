{
 "cells": [
  {
   "cell_type": "code",
   "execution_count": null,
   "metadata": {},
   "outputs": [],
   "source": [
    "#!pip3 install cython"
   ]
  },
  {
   "cell_type": "code",
   "execution_count": null,
   "metadata": {},
   "outputs": [],
   "source": [
    "%matplotlib inline\n",
    "import matplotlib.pyplot as plt\n",
    "import numpy as np\n",
    "import pandas as pd"
   ]
  },
  {
   "cell_type": "code",
   "execution_count": null,
   "metadata": {
    "scrolled": true
   },
   "outputs": [],
   "source": [
    "!wget https://raw.githubusercontent.com/uofscphysics/STEM_Python_Course/Summer2020/02_Week2/Workshop_CodeOptimization/wave_propogation.f90\n",
    "!wget https://raw.githubusercontent.com/uofscphysics/STEM_Python_Course/Summer2020/02_Week2/Workshop_CodeOptimization/setup.py\n",
    "\n",
    "!ls"
   ]
  },
  {
   "cell_type": "markdown",
   "metadata": {},
   "source": [
    "### Fortran File\n",
    "```Fortran\n",
    "SUBROUTINE wave_propogation_fortran(num_steps, scale, damping, initial_P, stop_step, P)\n",
    "  ! INPUTS\n",
    "  ! num_steps -> int # Number of itereations to make\n",
    "  ! scale -> int # Size of box for wave to propogate in\n",
    "  ! damping -> float # Factor for damping wave\n",
    "  ! initial_P -> float # Initial height at center\n",
    "  ! stop_step -> int # Number of steps to stop wave\n",
    "  ! OUTPUTS:\n",
    "  ! P -> float(x,y) # Array of output heights\n",
    "  IMPLICIT NONE\n",
    "  INTEGER size_x,i,j,k,step\n",
    "  REAL PI, omega\n",
    "  INTEGER, INTENT(in)  :: num_steps, scale, stop_step !input\n",
    "  REAL, INTENT(in) :: damping, initial_P !input\n",
    "  REAL, INTENT(out) :: P(2 * scale + 1,2 * scale + 1) ! output\n",
    "  REAL, DIMENSION(2 * scale + 1,2 * scale + 1,4) :: V\n",
    "\n",
    "  size_x = 2 * scale + 1\n",
    "\n",
    "  PI = 3.14159\n",
    "  omega = 3.0 / (2.0 * PI)\n",
    "\n",
    "! Setup initial matrix all 0's\n",
    "! P is pressure matrix\n",
    "! V is velocity tensor (matrix of x/y and 4 vector of velocity [up,down,left,right])\n",
    "  DO k=1,4\n",
    "     DO j=1,size_x\n",
    "        DO i=1,size_x\n",
    "           P(i,j) = 0.0\n",
    "           V(i,j,k) = 0.0\n",
    "        END DO\n",
    "     END DO\n",
    "  END DO\n",
    "\n",
    "  ! Set initial start height\n",
    "  P(scale + 1,scale + 1) = initial_P\n",
    "\n",
    "  ! For each step\n",
    "  DO step = 1, num_steps\n",
    "    ! If step is less than stopping step then add forcing function\n",
    "    IF(step <= stop_step) THEN\n",
    "      P(scale + 1 ,scale + 1) = initial_P * SIN(omega * step)\n",
    "    ENDIF\n",
    "\n",
    "    ! For each cell in matrix P\n",
    "    DO j=1,size_x\n",
    "      DO i=1,size_x\n",
    "        IF (i == 0) THEN\n",
    "          CYCLE\n",
    "        END IF\n",
    "        ! Calculate veolocity of wave at the points\n",
    "        V(i,j,1) = MERGE(V(i,j,1) + P(i,j) - P(i - 1,j), P(i,j), i > 1)\n",
    "        V(i,j,2) = MERGE(V(i,j,2) + P(i,j) - P(i,j + 1), P(i,j), j < size_x - 1)\n",
    "        V(i,j,3) = MERGE(V(i,j,3) + P(i,j) - P(i + 1,j), P(i,j), i < size_x - 1)\n",
    "        V(i,j,4) = MERGE(V(i,j,4) + P(i,j) - P(i,j - 1), P(i,j), j > 1)\n",
    "      END DO\n",
    "    END DO\n",
    "\n",
    "    DO j=1,size_x\n",
    "      DO i=1,size_x\n",
    "        ! Get new pressure from P = P_0 - damping*V\n",
    "        P(i,j) = P(i,j) - 0.5 * damping * (V(i,j,1) + V(i,j,2) + V(i,j,3) + V(i,j,4))\n",
    "      END DO\n",
    "    END DO\n",
    "  END DO\n",
    "\n",
    "END SUBROUTINE wave_propogation\n",
    "```"
   ]
  },
  {
   "cell_type": "markdown",
   "metadata": {},
   "source": [
    "### setup.py\n",
    "\n",
    "```python\n",
    "import numpy\n",
    "from numpy.distutils.core import Extension\n",
    "from numpy.distutils.core import setup\n",
    "\n",
    "\n",
    "fortranExt = Extension(name=\"wave_propogation\", sources=[\"wave_propogation.f90\"])\n",
    "\n",
    "\n",
    "setup(\n",
    "    name=\"wave_propogation\",\n",
    "    description=\"Fortran library to compute wave propogation in a box\",\n",
    "    ext_modules=[fortranExt],\n",
    ")\n",
    "```"
   ]
  },
  {
   "cell_type": "code",
   "execution_count": null,
   "metadata": {},
   "outputs": [],
   "source": [
    "!python setup.py build_ext --inplace"
   ]
  },
  {
   "cell_type": "code",
   "execution_count": null,
   "metadata": {},
   "outputs": [],
   "source": [
    "import wave_propogation as wp"
   ]
  },
  {
   "cell_type": "code",
   "execution_count": null,
   "metadata": {},
   "outputs": [],
   "source": [
    "print(wp.wave_propogation_fortran.__doc__)"
   ]
  },
  {
   "cell_type": "code",
   "execution_count": null,
   "metadata": {},
   "outputs": [],
   "source": [
    "num_steps = 50\n",
    "scale = 50\n",
    "damping= 0.25\n",
    "initial_p = 1\n",
    "stop_step = 25"
   ]
  },
  {
   "cell_type": "code",
   "execution_count": null,
   "metadata": {},
   "outputs": [],
   "source": [
    "%time final_p = wp.wave_propogation_fortran(num_steps, scale, damping, initial_p, stop_step)\n",
    "plt.figure(figsize=(12,6))\n",
    "plt.imshow(final_p)\n",
    "plt.show()"
   ]
  },
  {
   "cell_type": "code",
   "execution_count": null,
   "metadata": {},
   "outputs": [],
   "source": []
  }
 ],
 "metadata": {
  "kernelspec": {
   "display_name": "Python 3",
   "language": "python",
   "name": "python3"
  },
  "language_info": {
   "codemirror_mode": {
    "name": "ipython",
    "version": 3
   },
   "file_extension": ".py",
   "mimetype": "text/x-python",
   "name": "python",
   "nbconvert_exporter": "python",
   "pygments_lexer": "ipython3",
   "version": "3.8.4"
  }
 },
 "nbformat": 4,
 "nbformat_minor": 4
}
