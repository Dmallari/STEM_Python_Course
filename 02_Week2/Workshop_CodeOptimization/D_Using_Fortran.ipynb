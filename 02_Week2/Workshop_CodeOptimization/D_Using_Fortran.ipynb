{
 "cells": [
  {
   "cell_type": "code",
   "execution_count": 1,
   "metadata": {},
   "outputs": [],
   "source": [
    "#!pip3 install cython"
   ]
  },
  {
   "cell_type": "code",
   "execution_count": 2,
   "metadata": {},
   "outputs": [],
   "source": [
    "%matplotlib inline\n",
    "import matplotlib.pyplot as plt\n",
    "import numpy as np\n",
    "import pandas as pd"
   ]
  },
  {
   "cell_type": "code",
   "execution_count": 3,
   "metadata": {
    "scrolled": true
   },
   "outputs": [
    {
     "name": "stdout",
     "output_type": "stream",
     "text": [
      "A_Profiling.ipynb                     README.md\r\n",
      "B_Cython.ipynb                        setup.py\r\n",
      "C_Advanced_Cython.ipynb               \u001b[31mwave_propogation.cpython-38-darwin.so\u001b[m\u001b[m\r\n",
      "D_Using_Fortran.ipynb                 wave_propogation.f90\r\n"
     ]
    }
   ],
   "source": [
    "!ls"
   ]
  },
  {
   "cell_type": "markdown",
   "metadata": {},
   "source": [
    "### Fortran File\n",
    "```Fortran\n",
    "SUBROUTINE wave_propogation_fortran(num_steps, scale, damping, initial_P, stop_step, P)\n",
    "  ! INPUTS\n",
    "  ! num_steps -> int # Number of itereations to make\n",
    "  ! scale -> int # Size of box for wave to propogate in\n",
    "  ! damping -> float # Factor for damping wave\n",
    "  ! initial_P -> float # Initial height at center\n",
    "  ! stop_step -> int # Number of steps to stop wave\n",
    "  ! OUTPUTS:\n",
    "  ! P -> float(x,y) # Array of output heights\n",
    "  IMPLICIT NONE\n",
    "  INTEGER size_x,i,j,k,step\n",
    "  REAL PI, omega\n",
    "  INTEGER, INTENT(in)  :: num_steps, scale, stop_step !input\n",
    "  REAL, INTENT(in) :: damping, initial_P !input\n",
    "  REAL, INTENT(out) :: P(2 * scale + 1,2 * scale + 1) ! output\n",
    "  REAL, DIMENSION(2 * scale + 1,2 * scale + 1,4) :: V\n",
    "\n",
    "  size_x = 2 * scale + 1\n",
    "\n",
    "  PI = 3.14159\n",
    "  omega = 3.0 / (2.0 * PI)\n",
    "\n",
    "! Setup initial matrix all 0's\n",
    "! P is pressure matrix\n",
    "! V is velocity tensor (matrix of x/y and 4 vector of velocity [up,down,left,right])\n",
    "  DO k=1,4\n",
    "     DO j=1,size_x\n",
    "        DO i=1,size_x\n",
    "           P(i,j) = 0.0\n",
    "           V(i,j,k) = 0.0\n",
    "        END DO\n",
    "     END DO\n",
    "  END DO\n",
    "\n",
    "  ! Set initial start height\n",
    "  P(scale + 1,scale + 1) = initial_P\n",
    "\n",
    "  ! For each step\n",
    "  DO step = 1, num_steps\n",
    "    ! If step is less than stopping step then add forcing function\n",
    "    IF(step <= stop_step) THEN\n",
    "      P(scale + 1 ,scale + 1) = initial_P * SIN(omega * step)\n",
    "    ENDIF\n",
    "\n",
    "    ! For each cell in matrix P\n",
    "    DO j=1,size_x\n",
    "      DO i=1,size_x\n",
    "        IF (i == 0) THEN\n",
    "          CYCLE\n",
    "        END IF\n",
    "        ! Calculate veolocity of wave at the points\n",
    "        V(i,j,1) = MERGE(V(i,j,1) + P(i,j) - P(i - 1,j), P(i,j), i > 1)\n",
    "        V(i,j,2) = MERGE(V(i,j,2) + P(i,j) - P(i,j + 1), P(i,j), j < size_x - 1)\n",
    "        V(i,j,3) = MERGE(V(i,j,3) + P(i,j) - P(i + 1,j), P(i,j), i < size_x - 1)\n",
    "        V(i,j,4) = MERGE(V(i,j,4) + P(i,j) - P(i,j - 1), P(i,j), j > 1)\n",
    "      END DO\n",
    "    END DO\n",
    "\n",
    "    DO j=1,size_x\n",
    "      DO i=1,size_x\n",
    "        ! Get new pressure from P = P_0 - damping*V\n",
    "        P(i,j) = P(i,j) - 0.5 * damping * (V(i,j,1) + V(i,j,2) + V(i,j,3) + V(i,j,4))\n",
    "      END DO\n",
    "    END DO\n",
    "  END DO\n",
    "\n",
    "END SUBROUTINE wave_propogation\n",
    "```"
   ]
  },
  {
   "cell_type": "markdown",
   "metadata": {},
   "source": [
    "### setup.py\n",
    "\n",
    "```python\n",
    "import numpy\n",
    "from numpy.distutils.core import Extension\n",
    "from numpy.distutils.core import setup\n",
    "\n",
    "\n",
    "fortranExt = Extension(name=\"wave_propogation\", sources=[\"wave_propogation.f90\"])\n",
    "\n",
    "\n",
    "setup(\n",
    "    name=\"wave_propogation\",\n",
    "    description=\"Fortran library to compute wave propogation in a box\",\n",
    "    ext_modules=[fortranExt],\n",
    ")\n",
    "```"
   ]
  },
  {
   "cell_type": "code",
   "execution_count": 4,
   "metadata": {},
   "outputs": [
    {
     "name": "stdout",
     "output_type": "stream",
     "text": [
      "\u001b[39mrunning build_ext\u001b[0m\n",
      "\u001b[39mrunning build_src\u001b[0m\n",
      "\u001b[39mbuild_src\u001b[0m\n",
      "\u001b[39mbuilding extension \"wave_propogation\" sources\u001b[0m\n",
      "\u001b[39mf2py options: []\u001b[0m\n",
      "\u001b[39mf2py:> build/src.macosx-10.15-x86_64-3.8/wave_propogationmodule.c\u001b[0m\n",
      "\u001b[39mcreating build\u001b[0m\n",
      "\u001b[39mcreating build/src.macosx-10.15-x86_64-3.8\u001b[0m\n",
      "Reading fortran codes...\n",
      "\tReading file 'wave_propogation.f90' (format:free)\n",
      "Post-processing...\n",
      "\tBlock: wave_propogation\n",
      "\t\t\tBlock: wave_propogation_fortran\n",
      "Post-processing (stage 2)...\n",
      "Building modules...\n",
      "\tBuilding module \"wave_propogation\"...\n",
      "\t\tConstructing wrapper function \"wave_propogation_fortran\"...\n",
      "\t\t  p = wave_propogation_fortran(num_steps,scale,damping,initial_p,stop_step)\n",
      "\tWrote C/API module \"wave_propogation\" to file \"build/src.macosx-10.15-x86_64-3.8/wave_propogationmodule.c\"\n",
      "\u001b[39m  adding 'build/src.macosx-10.15-x86_64-3.8/build/src.macosx-10.15-x86_64-3.8/fortranobject.c' to sources.\u001b[0m\n",
      "\u001b[39m  adding 'build/src.macosx-10.15-x86_64-3.8/build/src.macosx-10.15-x86_64-3.8' to include_dirs.\u001b[0m\n",
      "\u001b[39mcreating build/src.macosx-10.15-x86_64-3.8/build\u001b[0m\n",
      "\u001b[39mcreating build/src.macosx-10.15-x86_64-3.8/build/src.macosx-10.15-x86_64-3.8\u001b[0m\n",
      "\u001b[39mcopying /usr/local/lib/python3.8/site-packages/numpy/f2py/src/fortranobject.c -> build/src.macosx-10.15-x86_64-3.8/build/src.macosx-10.15-x86_64-3.8\u001b[0m\n",
      "\u001b[39mcopying /usr/local/lib/python3.8/site-packages/numpy/f2py/src/fortranobject.h -> build/src.macosx-10.15-x86_64-3.8/build/src.macosx-10.15-x86_64-3.8\u001b[0m\n",
      "\u001b[39mbuild_src: building npy-pkg config files\u001b[0m\n",
      "\u001b[39mcustomize UnixCCompiler\u001b[0m\n",
      "\u001b[39mcustomize UnixCCompiler using build_ext\u001b[0m\n",
      "\u001b[39mget_default_fcompiler: matching types: '['gnu95', 'nag', 'absoft', 'ibm', 'intel', 'gnu', 'g95', 'pg']'\u001b[0m\n",
      "\u001b[39mcustomize Gnu95FCompiler\u001b[0m\n",
      "\u001b[39mFound executable /usr/local/bin/gfortran\u001b[0m\n",
      "\u001b[39mcustomize Gnu95FCompiler\u001b[0m\n",
      "\u001b[39mcustomize Gnu95FCompiler using build_ext\u001b[0m\n",
      "\u001b[39mbuilding 'wave_propogation' extension\u001b[0m\n",
      "\u001b[39mcompiling C sources\u001b[0m\n",
      "\u001b[39mC compiler: clang -Wno-unused-result -Wsign-compare -Wunreachable-code -fno-common -dynamic -DNDEBUG -g -fwrapv -O3 -Wall -isysroot /Library/Developer/CommandLineTools/SDKs/MacOSX10.15.sdk -I/Library/Developer/CommandLineTools/SDKs/MacOSX10.15.sdk/usr/include -I/Library/Developer/CommandLineTools/SDKs/MacOSX10.15.sdk/System/Library/Frameworks/Tk.framework/Versions/8.5/Headers\n",
      "\u001b[0m\n",
      "\u001b[39mcreating build/temp.macosx-10.15-x86_64-3.8/build\u001b[0m\n",
      "\u001b[39mcreating build/temp.macosx-10.15-x86_64-3.8/build/src.macosx-10.15-x86_64-3.8\u001b[0m\n",
      "\u001b[39mcreating build/temp.macosx-10.15-x86_64-3.8/build/src.macosx-10.15-x86_64-3.8/build\u001b[0m\n",
      "\u001b[39mcreating build/temp.macosx-10.15-x86_64-3.8/build/src.macosx-10.15-x86_64-3.8/build/src.macosx-10.15-x86_64-3.8\u001b[0m\n",
      "\u001b[39mcompile options: '-Ibuild/src.macosx-10.15-x86_64-3.8/build/src.macosx-10.15-x86_64-3.8 -I/usr/local/lib/python3.8/site-packages/numpy/core/include -I/usr/local/include -I/usr/local/opt/openssl@1.1/include -I/usr/local/opt/sqlite/include -I/usr/local/Cellar/python@3.8/3.8.4/Frameworks/Python.framework/Versions/3.8/include/python3.8 -c'\u001b[0m\n",
      "\u001b[39mclang: build/src.macosx-10.15-x86_64-3.8/wave_propogationmodule.c\u001b[0m\n",
      "\u001b[39mclang: build/src.macosx-10.15-x86_64-3.8/build/src.macosx-10.15-x86_64-3.8/fortranobject.c\u001b[0m\n",
      "In file included from build/src.macosx-10.15-x86_64-3.8/wave_propogationmodule.c:16:\n",
      "In file included from build/src.macosx-10.15-x86_64-3.8/build/src.macosx-10.15-x86_64-3.8/fortranobject.h:13:\n",
      "In file included from /usr/local/lib/python3.8/site-packages/numpy/core/include/numpy/arrayobject.hIn file included from :build/src.macosx-10.15-x86_64-3.8/build/src.macosx-10.15-x86_64-3.8/fortranobject.c4::\n",
      "2In file included from :\n",
      "/usr/local/lib/python3.8/site-packages/numpy/core/include/numpy/ndarrayobject.hIn file included from :build/src.macosx-10.15-x86_64-3.8/build/src.macosx-10.15-x86_64-3.8/fortranobject.h12::\n",
      "13In file included from :\n",
      "/usr/local/lib/python3.8/site-packages/numpy/core/include/numpy/ndarraytypes.hIn file included from :/usr/local/lib/python3.8/site-packages/numpy/core/include/numpy/arrayobject.h1822::\n",
      "4:\n",
      "In file included from /usr/local/lib/python3.8/site-packages/numpy/core/include/numpy/ndarrayobject.h\u001b[1m:/usr/local/lib/python3.8/site-packages/numpy/core/include/numpy/npy_1_7_deprecated_api.h:17:2: \u001b[0m\u001b[0;1;35mwarning: \u001b[0m\u001b[1m\n",
      "      \"Using deprecated NumPy API, disable 12it :\n",
      "withIn file included from  \"          \"#define/usr/local/lib/python3.8/site-packages/numpy/core/include/numpy/ndarraytypes.h\n",
      ":      1822NPY_NO_DEPRECATED_API:\n",
      " NPY_1_7_API_VERSION\" [-W#warnings]\u001b[1m\u001b[0m/usr/local/lib/python3.8/site-packages/numpy/core/include/numpy/npy_1_7_deprecated_api.h\n",
      ":17:2: \u001b[0m\u001b[0;1;35mwarning: \u001b[0m\u001b[1m\n",
      "      \"Using deprecated NumPy API, disable it #warning \"Using deprecated NumPy API, disable it with \" \\with\n",
      " \u001b[0;1;32m\"          \"#define ^\n",
      "\n",
      "      \u001b[0mNPY_NO_DEPRECATED_API NPY_1_7_API_VERSION\" [-W#warnings]\u001b[0m\n",
      "#warning \"Using deprecated NumPy API, disable it with \" \\\n",
      "\u001b[0;1;32m ^\n",
      "\u001b[0m\u001b[1mbuild/src.macosx-10.15-x86_64-3.8/wave_propogationmodule.c:141:12: \u001b[0m\u001b[0;1;35mwarning: \u001b[0m\u001b[1m\n",
      "      unused function 'f2py_size' [-Wunused-function]\u001b[0m\n",
      "static int f2py_size(PyArrayObject* var, ...)\n",
      "\u001b[0;1;32m           ^\n",
      "\u001b[0m2 warnings generated.\n",
      "1 warning generated.\n",
      "\u001b[39mcompiling Fortran sources\u001b[0m\n",
      "\u001b[39mFortran f77 compiler: /usr/local/bin/gfortran -Wall -g -ffixed-form -fno-second-underscore -fPIC -O3 -funroll-loops\n",
      "Fortran f90 compiler: /usr/local/bin/gfortran -Wall -g -fno-second-underscore -fPIC -O3 -funroll-loops\n",
      "Fortran fix compiler: /usr/local/bin/gfortran -Wall -g -ffixed-form -fno-second-underscore -Wall -g -fno-second-underscore -fPIC -O3 -funroll-loops\u001b[0m\n",
      "\u001b[39mcompile options: '-Ibuild/src.macosx-10.15-x86_64-3.8/build/src.macosx-10.15-x86_64-3.8 -I/usr/local/lib/python3.8/site-packages/numpy/core/include -I/usr/local/include -I/usr/local/opt/openssl@1.1/include -I/usr/local/opt/sqlite/include -I/usr/local/Cellar/python@3.8/3.8.4/Frameworks/Python.framework/Versions/3.8/include/python3.8 -c'\u001b[0m\n",
      "\u001b[39mgfortran:f90: wave_propogation.f90\u001b[0m\n",
      "\u001b[39m/usr/local/bin/gfortran -Wall -g -Wall -g -undefined dynamic_lookup -bundle build/temp.macosx-10.15-x86_64-3.8/build/src.macosx-10.15-x86_64-3.8/wave_propogationmodule.o build/temp.macosx-10.15-x86_64-3.8/build/src.macosx-10.15-x86_64-3.8/build/src.macosx-10.15-x86_64-3.8/fortranobject.o build/temp.macosx-10.15-x86_64-3.8/wave_propogation.o -L/usr/local/Cellar/gcc/9.3.0/lib/gcc/9/gcc/x86_64-apple-darwin19/9.3.0 -L/usr/local/Cellar/gcc/9.3.0/lib/gcc/9/gcc/x86_64-apple-darwin19/9.3.0/../../.. -L/usr/local/Cellar/gcc/9.3.0/lib/gcc/9/gcc/x86_64-apple-darwin19/9.3.0/../../.. -L/usr/local/lib -L/usr/local/opt/openssl@1.1/lib -L/usr/local/opt/sqlite/lib -lgfortran -o wave_propogation.cpython-38-darwin.so\u001b[0m\n"
     ]
    }
   ],
   "source": [
    "!python setup.py build_ext --inplace"
   ]
  },
  {
   "cell_type": "code",
   "execution_count": 5,
   "metadata": {},
   "outputs": [],
   "source": [
    "import wave_propogation as wp"
   ]
  },
  {
   "cell_type": "code",
   "execution_count": 6,
   "metadata": {},
   "outputs": [
    {
     "name": "stdout",
     "output_type": "stream",
     "text": [
      "p = wave_propogation_fortran(num_steps,scale,damping,initial_p,stop_step)\n",
      "\n",
      "Wrapper for ``wave_propogation_fortran``.\n",
      "\n",
      "Parameters\n",
      "----------\n",
      "num_steps : input int\n",
      "scale : input int\n",
      "damping : input float\n",
      "initial_p : input float\n",
      "stop_step : input int\n",
      "\n",
      "Returns\n",
      "-------\n",
      "p : rank-2 array('f') with bounds (2 * scale + 1,2 * scale + 1)\n",
      "\n"
     ]
    }
   ],
   "source": [
    "print(wp.wave_propogation_fortran.__doc__)"
   ]
  },
  {
   "cell_type": "code",
   "execution_count": 7,
   "metadata": {},
   "outputs": [],
   "source": [
    "num_steps = 50\n",
    "scale = 50\n",
    "damping= 0.25\n",
    "initial_p = 1\n",
    "stop_step = 25"
   ]
  },
  {
   "cell_type": "code",
   "execution_count": 8,
   "metadata": {},
   "outputs": [
    {
     "name": "stdout",
     "output_type": "stream",
     "text": [
      "CPU times: user 1.62 ms, sys: 33 µs, total: 1.66 ms\n",
      "Wall time: 1.66 ms\n"
     ]
    },
    {
     "data": {
      "image/png": "[encoded data removed]",
      "text/plain": [
       "<Figure size 864x432 with 1 Axes>"
      ]
     },
     "metadata": {
      "needs_background": "light"
     },
     "output_type": "display_data"
    }
   ],
   "source": [
    "%time final_p = wp.wave_propogation_fortran(num_steps, scale, damping, initial_p, stop_step)\n",
    "plt.figure(figsize=(12,6))\n",
    "plt.imshow(final_p)\n",
    "plt.show()"
   ]
  },
  {
   "cell_type": "code",
   "execution_count": null,
   "metadata": {},
   "outputs": [],
   "source": []
  }
 ],
 "metadata": {
  "kernelspec": {
   "display_name": "Python 3",
   "language": "python",
   "name": "python3"
  },
  "language_info": {
   "codemirror_mode": {
    "name": "ipython",
    "version": 3
   },
   "file_extension": ".py",
   "mimetype": "text/x-python",
   "name": "python",
   "nbconvert_exporter": "python",
   "pygments_lexer": "ipython3",
   "version": "3.8.4"
  }
 },
 "nbformat": 4,
 "nbformat_minor": 4
}
