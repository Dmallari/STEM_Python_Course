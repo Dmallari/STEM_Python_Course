{
 "cells": [
  {
   "cell_type": "code",
   "execution_count": 1,
   "metadata": {},
   "outputs": [],
   "source": [
    "import numpy as np\n",
    "import matplotlib.pyplot as plt\n",
    "import random\n",
    "\n",
    "test_size = int(1e6)"
   ]
  },
  {
   "cell_type": "markdown",
   "metadata": {},
   "source": [
    "### Basic timing \n",
    "\n",
    "There are a few builtin functions in jupyter for doing this `%time`/`%%time` and `%timeit`/`%%timeit`. Using the `%` version will run the function over the line it is in front of while the `%%` version needs to be at the top of the cell and will run over the entire cell.\n",
    "\n",
    "- `time` is used to find the time for running that code\n",
    "- `timeit` is used to run the code multiple times and give the mean result\n"
   ]
  },
  {
   "cell_type": "code",
   "execution_count": 2,
   "metadata": {},
   "outputs": [
    {
     "name": "stdout",
     "output_type": "stream",
     "text": [
      "CPU times: user 117 ms, sys: 12.7 ms, total: 130 ms\n",
      "Wall time: 128 ms\n"
     ]
    }
   ],
   "source": [
    "%time x = sum([random.random() for i in range(test_size)])"
   ]
  },
  {
   "cell_type": "code",
   "execution_count": 3,
   "metadata": {},
   "outputs": [
    {
     "name": "stdout",
     "output_type": "stream",
     "text": [
      "118 ms ± 3.51 ms per loop (mean ± std. dev. of 7 runs, 10 loops each)\n"
     ]
    }
   ],
   "source": [
    "%%timeit\n",
    "x = sum([random.random() for i in range(test_size)])"
   ]
  },
  {
   "cell_type": "markdown",
   "metadata": {},
   "source": [
    "## Tip #1: Use numpy\n",
    "\n",
    "Now lets run these cells and see the difference in speed"
   ]
  },
  {
   "cell_type": "code",
   "execution_count": 4,
   "metadata": {},
   "outputs": [
    {
     "name": "stdout",
     "output_type": "stream",
     "text": [
      "CPU times: user 25.1 ms, sys: 1.39 ms, total: 26.5 ms\n",
      "Wall time: 25.6 ms\n"
     ]
    }
   ],
   "source": [
    "%time x = np.sum(np.random.normal(size=test_size))"
   ]
  },
  {
   "cell_type": "code",
   "execution_count": 5,
   "metadata": {},
   "outputs": [
    {
     "name": "stdout",
     "output_type": "stream",
     "text": [
      "20.4 ms ± 345 µs per loop (mean ± std. dev. of 7 runs, 10 loops each)\n"
     ]
    }
   ],
   "source": [
    "%%timeit\n",
    "x = np.sum(np.random.normal(size=test_size))"
   ]
  },
  {
   "cell_type": "markdown",
   "metadata": {},
   "source": [
    "## Tip #2: Don't reinvent the wheel use numpy/scipy\n",
    "\n",
    "numpy and scipy are packed with useful functions. Take some time at the begining to find a function that works so you're code will be faster all the time."
   ]
  },
  {
   "cell_type": "code",
   "execution_count": 6,
   "metadata": {},
   "outputs": [],
   "source": [
    "def make_square_matrix(N, value=None):\n",
    "    #define empty matrix\n",
    "    matrix=[] \n",
    "    for i in range(N):\n",
    "        #define empty row\n",
    "        row=[] \n",
    "        for j in range(N): \n",
    "            # append random number or set value to the row\n",
    "            if value is None:\n",
    "                row.append(random.random()) \n",
    "            else:\n",
    "                row.append(value)\n",
    "        # append new row to full matrix\n",
    "        matrix.append(row)\n",
    "    return matrix\n",
    "\n",
    "def my_matMul(X,Y):\n",
    "    # Get size of matrices\n",
    "    size = len(X)\n",
    "    # Make a matrix that size with all 0's\n",
    "    result = make_square_matrix(size,value=0)\n",
    "    # Loop through rows in X/col in Y\n",
    "    for i in range(size):\n",
    "        # Loop through rows in Y/col in X\n",
    "        for j in range(size):\n",
    "            # Loop through elements in each row/col and \n",
    "            for k in range(size):\n",
    "                # Fill in the resulting matrix with the value at i,j\n",
    "                result[i][j] += X[i][k] * Y[k][j]\n",
    "    return result"
   ]
  },
  {
   "cell_type": "code",
   "execution_count": 7,
   "metadata": {},
   "outputs": [
    {
     "name": "stdout",
     "output_type": "stream",
     "text": [
      "CPU times: user 1.3 s, sys: 2.95 ms, total: 1.3 s\n",
      "Wall time: 1.3 s\n"
     ]
    }
   ],
   "source": [
    "# X and Y are pure python arrays\n",
    "X = make_square_matrix(200)\n",
    "Y = make_square_matrix(200)\n",
    "%time myResult = my_matMul(X,Y)"
   ]
  },
  {
   "cell_type": "code",
   "execution_count": 8,
   "metadata": {},
   "outputs": [
    {
     "name": "stdout",
     "output_type": "stream",
     "text": [
      "CPU times: user 5.85 s, sys: 3.37 ms, total: 5.86 s\n",
      "Wall time: 5.86 s\n"
     ]
    }
   ],
   "source": [
    "# It may make sense to use numpy to try and speed it up...but it makes it slower\n",
    "X = np.array(make_square_matrix(200))\n",
    "Y = np.array(make_square_matrix(200))\n",
    "%time myResult = my_matMul(X,Y)"
   ]
  },
  {
   "cell_type": "code",
   "execution_count": 9,
   "metadata": {},
   "outputs": [
    {
     "name": "stdout",
     "output_type": "stream",
     "text": [
      "CPU times: user 21.3 ms, sys: 4.6 ms, total: 25.9 ms\n",
      "Wall time: 21 ms\n"
     ]
    }
   ],
   "source": [
    "%%time \n",
    "# Let's use our pure python arrays with numpys function...better than our original\n",
    "X = make_square_matrix(200)\n",
    "Y = make_square_matrix(200)\n",
    "npResult = np.matmul(X,Y)"
   ]
  },
  {
   "cell_type": "code",
   "execution_count": 10,
   "metadata": {},
   "outputs": [
    {
     "name": "stdout",
     "output_type": "stream",
     "text": [
      "CPU times: user 1.85 ms, sys: 2.23 ms, total: 4.08 ms\n",
      "Wall time: 503 µs\n"
     ]
    }
   ],
   "source": [
    "# Now let's just use numpy for everything\n",
    "X = np.random.rand(200,200)\n",
    "Y = np.random.rand(200,200)\n",
    "%time npResult = np.matmul(X,Y)"
   ]
  },
  {
   "cell_type": "markdown",
   "metadata": {},
   "source": [
    "## Tip #3 Profile your code\n",
    "\n",
    "There are tools like line_profiler that will tell you what is the most used and slowest functions in your code."
   ]
  },
  {
   "cell_type": "code",
   "execution_count": 11,
   "metadata": {},
   "outputs": [],
   "source": [
    "%load_ext line_profiler\n",
    "# Loads the line profiler extention into jupyter"
   ]
  },
  {
   "cell_type": "code",
   "execution_count": 12,
   "metadata": {},
   "outputs": [
    {
     "name": "stdout",
     "output_type": "stream",
     "text": [
      "Overwriting my_function.py\n"
     ]
    }
   ],
   "source": [
    "%%writefile my_function.py\n",
    "# In order for this to work you need to save the functions you want to look at as a file\n",
    "# and then load the functions in as a module\n",
    "\n",
    "def make_square_matrix(N, value=None):\n",
    "    import random\n",
    "    #define empty matrix\n",
    "    matrix=[] \n",
    "    for i in range(N):\n",
    "        #define empty row\n",
    "        row=[] \n",
    "        for j in range(N): \n",
    "            # append random number or set value to the row\n",
    "            if value is None:\n",
    "                row.append(random.random()) \n",
    "            else:\n",
    "                row.append(value)\n",
    "        # append new row to full matrix\n",
    "        matrix.append(row)\n",
    "    return matrix\n",
    "\n",
    "def my_matMul(X,Y):\n",
    "    # Get size of matrices\n",
    "    size = len(X)\n",
    "    # Make a matrix that size with all 0's\n",
    "    result = make_square_matrix(size,value=0)\n",
    "    # Loop through rows in X/col in Y\n",
    "    for i in range(size):\n",
    "        # Loop through rows in Y/col in X\n",
    "        for j in range(size):\n",
    "            # Loop through elements in each row/col and \n",
    "            for k in range(size):\n",
    "                # Fill in the resulting matrix with the value at i,j\n",
    "                result[i][j] += X[i][k] * Y[k][j]\n",
    "    return result"
   ]
  },
  {
   "cell_type": "code",
   "execution_count": 13,
   "metadata": {},
   "outputs": [],
   "source": [
    "# Load the functions in from the file we created above\n",
    "from my_function import my_matMul, make_square_matrix"
   ]
  },
  {
   "cell_type": "code",
   "execution_count": 16,
   "metadata": {},
   "outputs": [
    {
     "name": "stdout",
     "output_type": "stream",
     "text": [
      "\n",
      "*** Profile printout saved to text file 'profMatMul'. \n"
     ]
    }
   ],
   "source": [
    "# Run the line profiler\n",
    "X = make_square_matrix(200)\n",
    "Y = make_square_matrix(200)\n",
    "# -T gives the output filename\n",
    "# -f is the function to profile\n",
    "# The end is how you're going to run your function\n",
    "%lprun -T profMatMul -f my_matMul my_matMul(X,Y)"
   ]
  },
  {
   "cell_type": "code",
   "execution_count": 15,
   "metadata": {},
   "outputs": [
    {
     "name": "stdout",
     "output_type": "stream",
     "text": [
      "\n",
      "*** Profile printout saved to text file 'profSqaureMatrix'. \n"
     ]
    }
   ],
   "source": [
    "X = make_square_matrix(200)\n",
    "Y = make_square_matrix(200)\n",
    "# You can also profile different functions inside of the function you want to run\n",
    "%lprun -T profSqaureMatrix -f make_square_matrix my_matMul(X,Y)"
   ]
  },
  {
   "cell_type": "code",
   "execution_count": null,
   "metadata": {},
   "outputs": [],
   "source": []
  }
 ],
 "metadata": {
  "kernelspec": {
   "display_name": "Python 3",
   "language": "python",
   "name": "python3"
  },
  "language_info": {
   "codemirror_mode": {
    "name": "ipython",
    "version": 3
   },
   "file_extension": ".py",
   "mimetype": "text/x-python",
   "name": "python",
   "nbconvert_exporter": "python",
   "pygments_lexer": "ipython3",
   "version": "3.8.4"
  }
 },
 "nbformat": 4,
 "nbformat_minor": 4
}
