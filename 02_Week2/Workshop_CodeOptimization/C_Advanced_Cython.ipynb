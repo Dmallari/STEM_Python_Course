{
 "cells": [
  {
   "cell_type": "code",
   "execution_count": null,
   "metadata": {},
   "outputs": [],
   "source": [
    "#!pip3 install cython"
   ]
  },
  {
   "cell_type": "code",
   "execution_count": null,
   "metadata": {},
   "outputs": [],
   "source": [
    "%matplotlib inline\n",
    "import matplotlib.pyplot as plt\n",
    "import numpy as np\n",
    "import pandas as pd"
   ]
  },
  {
   "cell_type": "code",
   "execution_count": null,
   "metadata": {},
   "outputs": [],
   "source": [
    "%load_ext Cython"
   ]
  },
  {
   "cell_type": "code",
   "execution_count": null,
   "metadata": {},
   "outputs": [],
   "source": [
    "num_steps = 50\n",
    "scale = 50\n",
    "damping= 0.25\n",
    "initial_p = 1\n",
    "stop_step = 25"
   ]
  },
  {
   "cell_type": "code",
   "execution_count": null,
   "metadata": {},
   "outputs": [],
   "source": [
    "def wave_propogation(num_steps, scale, damping, initial_P, stop_step):\n",
    "    # Give types to variables we use to calculate with\n",
    "    omega =  3.0 / (2.0 * np.pi)\n",
    "    size_x = 2 * scale + 1\n",
    "\n",
    "    # Setup C style arrays in python\n",
    "    P = np.zeros((size_x,size_x))\n",
    "    V = np.zeros((size_x,size_x,4))\n",
    "\n",
    "    P[scale][scale] = initial_P\n",
    "\n",
    "    for step in range(num_steps):\n",
    "        if(step <= stop_step):\n",
    "            P[scale][scale] = initial_P * np.sin(omega * step)\n",
    "        for i in range(size_x):\n",
    "            for j in range(size_x):\n",
    "                V[i][j][0] = V[i][j][0] + P[i][j] - P[i - 1][j] if i > 0 else P[i][j]\n",
    "                V[i][j][1] = V[i][j][1] + P[i][j] - P[i][j + 1] if j < size_x - 1 else P[i][j]\n",
    "                V[i][j][2] = V[i][j][2] + P[i][j] - P[i + 1][j] if i < size_x - 1 else P[i][j]\n",
    "                V[i][j][3] = V[i][j][3] + P[i][j] - P[i][j - 1] if j > 0 else P[i][j]\n",
    "\n",
    "        for i in range(size_x):\n",
    "            for j in range(size_x):\n",
    "                P[i][j] -= 0.5 * damping * (V[i][j][0]+V[i][j][1]+V[i][j][2]+V[i][j][3])\n",
    "    return P"
   ]
  },
  {
   "cell_type": "code",
   "execution_count": null,
   "metadata": {},
   "outputs": [],
   "source": [
    "%time final_p = wave_propogation(num_steps, scale, damping, initial_p, stop_step)\n",
    "\n",
    "plt.figure(figsize=(12,6))\n",
    "plt.imshow(final_p)\n",
    "plt.show()"
   ]
  },
  {
   "cell_type": "code",
   "execution_count": null,
   "metadata": {},
   "outputs": [],
   "source": [
    "%%cython -a\n",
    "\n",
    "cimport cython\n",
    "from libcpp cimport bool\n",
    "\n",
    "from cython.view cimport array as cython_array\n",
    "from libc.math cimport M_PI as pi\n",
    "from libc.math cimport sin as sin\n",
    "import numpy as np\n",
    "\n",
    "\n",
    "# These turn off some python features for accessing arrays as python arrays\n",
    "@cython.boundscheck(False)\n",
    "@cython.wraparound(False)\n",
    "# This turns off checks for divide by 0 and will seg fault instead of throw a warning\n",
    "@cython.cdivision(True)\n",
    "# Gave all the input variables types\n",
    "def wave_propogation_cython(int num_steps, int scale,float damping,float initial_P,int stop_step):\n",
    "    # Give types to variables we use to calculate with\n",
    "    cdef float omega =  3.0 / (2.0 * pi)\n",
    "    cdef int size_x = 2 * scale + 1\n",
    "\n",
    "    # Give types to loop iterator variables to make loops C loops\n",
    "    cdef int i = 0\n",
    "    cdef int j = 0\n",
    "    cdef int step = 0\n",
    "\n",
    "    # Setup C style arrays in python\n",
    "    cdef float [:,:] P = cython_array(shape=(size_x, size_x), itemsize=sizeof(float), format=\"f\")\n",
    "    P[:,:] = 0.0\n",
    "    cdef float [:,:,:] V = cython_array(shape=(size_x, size_x, 4), itemsize=sizeof(float), format=\"f\")\n",
    "    V[:,:,:] = 0.0\n",
    "\n",
    "    P[scale][scale] = initial_P\n",
    "\n",
    "    for step in range(num_steps):\n",
    "        if(step <= stop_step):\n",
    "            P[scale][scale] = initial_P * sin(omega * step)\n",
    "        for i in range(size_x):\n",
    "            for j in range(size_x):\n",
    "                V[i][j][0] = V[i][j][0] + P[i][j] - P[i - 1][j] if i > 0 else P[i][j]\n",
    "                V[i][j][1] = V[i][j][1] + P[i][j] - P[i][j + 1] if j < size_x - 1 else P[i][j]\n",
    "                V[i][j][2] = V[i][j][2] + P[i][j] - P[i + 1][j] if i < size_x - 1 else P[i][j]\n",
    "                V[i][j][3] = V[i][j][3] + P[i][j] - P[i][j - 1] if j > 0 else P[i][j]\n",
    "\n",
    "        for i in range(size_x):\n",
    "            for j in range(size_x):\n",
    "                P[i][j] -= 0.5 * damping * (V[i][j][0]+V[i][j][1]+V[i][j][2]+V[i][j][3])\n",
    "    return np.asarray(P)"
   ]
  },
  {
   "cell_type": "code",
   "execution_count": null,
   "metadata": {},
   "outputs": [],
   "source": [
    "%time final_p = wave_propogation_cython(num_steps, scale, damping, initial_p, stop_step)\n",
    "plt.figure(figsize=(12,6))\n",
    "plt.imshow(final_p)\n",
    "plt.show()"
   ]
  },
  {
   "cell_type": "code",
   "execution_count": null,
   "metadata": {},
   "outputs": [],
   "source": []
  }
 ],
 "metadata": {
  "kernelspec": {
   "display_name": "Python 3",
   "language": "python",
   "name": "python3"
  },
  "language_info": {
   "codemirror_mode": {
    "name": "ipython",
    "version": 3
   },
   "file_extension": ".py",
   "mimetype": "text/x-python",
   "name": "python",
   "nbconvert_exporter": "python",
   "pygments_lexer": "ipython3",
   "version": "3.8.4"
  }
 },
 "nbformat": 4,
 "nbformat_minor": 4
}
