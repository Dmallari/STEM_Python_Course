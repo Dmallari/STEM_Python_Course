{
 "cells": [
  {
   "cell_type": "code",
   "execution_count": null,
   "metadata": {},
   "outputs": [],
   "source": [
    "#!pip3 install cython"
   ]
  },
  {
   "cell_type": "code",
   "execution_count": null,
   "metadata": {},
   "outputs": [],
   "source": [
    "%matplotlib inline\n",
    "import matplotlib.pyplot as plt\n",
    "import numpy as np\n",
    "import pandas as pd"
   ]
  },
  {
   "cell_type": "markdown",
   "metadata": {},
   "source": [
    "## Let's look at our matrix multiplication again\n",
    "\n",
    "I know I mentioned before to just use numpy but sometimes you're working with a complex function or something that's not as easily sped up with numpy.\n",
    "\n",
    "Let's assume we have a special matrix multiplication we can't use a generic function for."
   ]
  },
  {
   "cell_type": "code",
   "execution_count": null,
   "metadata": {},
   "outputs": [],
   "source": [
    "def my_matMul(X,Y):\n",
    "    # Get size of matrices\n",
    "    size = len(X)\n",
    "    # Make a matrix that size with all 0's\n",
    "    result = np.zeros_like(X)\n",
    "    # Loop through rows in X/col in Y\n",
    "    for i in range(size):\n",
    "        # Loop through rows in Y/col in X\n",
    "        for j in range(size):\n",
    "            # Loop through elements in each row/col and \n",
    "            for k in range(size):\n",
    "                # Fill in the resulting matrix with the value at i,j\n",
    "                result[i][j] += X[i][k] * Y[k][j]\n",
    "    return result"
   ]
  },
  {
   "cell_type": "code",
   "execution_count": null,
   "metadata": {},
   "outputs": [],
   "source": [
    "size = 200\n",
    "A = np.random.rand(size,size)\n",
    "B = np.random.rand(size,size)\n",
    "%time x = my_matMul(A,B) "
   ]
  },
  {
   "cell_type": "markdown",
   "metadata": {},
   "source": [
    "## Let's try cython\n",
    "\n",
    "From the cython website:\n",
    "\n",
    "#### [Cython](https://cython.org) gives you the combined power of Python and C to let you\n",
    "\n",
    "- write Python code that calls back and forth from and to C or C++ code natively at any point.\n",
    "- easily tune readable Python code into plain C performance by adding static type declarations, also in Python syntax.\n",
    "- use combined source code level debugging to find bugs in your Python, Cython and C code.\n",
    "- interact efficiently with large data sets, e.g. using multi-dimensional NumPy arrays.\n",
    "- quickly build your applications within the large, mature and widely used CPython ecosystem.\n",
    "- integrate natively with existing code and data from legacy, low-level or high-performance libraries and applications.\n",
    "\n",
    "##### Personally I use cython to make libraries which call C/C++/Fortarn code, which is already written and fast, in python which has really nice plotting and fitting methods.\n",
    "\n",
    "We can use cython in jupyter by loading the extension and using `%%cython` in any cell that we want to cythonize and compile to c style code."
   ]
  },
  {
   "cell_type": "code",
   "execution_count": null,
   "metadata": {},
   "outputs": [],
   "source": [
    "%load_ext Cython"
   ]
  },
  {
   "cell_type": "code",
   "execution_count": null,
   "metadata": {},
   "outputs": [],
   "source": [
    "%%cython \n",
    "import numpy as np # we need to redelare any libraries inside the cython cell for cython to load them\n",
    "\n",
    "### This is all I added! ^^^^\n",
    "\n",
    "def my_matMul_cy(X,Y):\n",
    "    # Get size of matrices\n",
    "    size = len(X)\n",
    "    # Make a matrix that size with all 0's\n",
    "    result = np.zeros_like(X)\n",
    "    # Loop through rows in X/col in Y\n",
    "    for i in range(size):\n",
    "        # Loop through rows in Y/col in X\n",
    "        for j in range(size):\n",
    "            # Loop through elements in each row/col and \n",
    "            for k in range(size):\n",
    "                # Fill in the resulting matrix with the value at i,j\n",
    "                result[i][j] += X[i][k] * Y[k][j]\n",
    "    return result"
   ]
  },
  {
   "cell_type": "code",
   "execution_count": null,
   "metadata": {},
   "outputs": [],
   "source": [
    "size = 200\n",
    "\n",
    "A = np.random.rand(size,size)\n",
    "B = np.random.rand(size,size)\n",
    "%time x = my_matMul_cy(A,B)"
   ]
  },
  {
   "cell_type": "markdown",
   "metadata": {},
   "source": [
    "<br/><br/>\n",
    "<br/><br/>\n",
    "<br/><br/>\n",
    "<br/><br/>\n",
    "<br/><br/>\n",
    "<br/><br/>\n",
    "<br/><br/>\n",
    "## Let's see if we can make it faster\n",
    "\n",
    "Cython allows you to give your variables types to help speedup the python code that's already written. You can also use the `-a` option to annotate your cython code which shows how one line of python code get's translated into lines of C code. Even if you don't understand C cython will try to help by marking slower functions in the code as red which you can think how to change them.\n",
    "\n",
    "We can also turn on and off features of python inside of our code which can help to make it faster. https://cython.readthedocs.io/en/latest/src/userguide/source_files_and_compilation.html#compiler-directives"
   ]
  },
  {
   "cell_type": "code",
   "execution_count": null,
   "metadata": {},
   "outputs": [],
   "source": [
    "%%cython -a\n",
    "import numpy as np # we need to redelare any libraries inside the cython cell for cython to load them\n",
    "\n",
    "def my_matMul_cy(X,Y):\n",
    "    # Get size of matrices\n",
    "    size = len(X)\n",
    "    # Make a matrix that size with all 0's\n",
    "    result = np.zeros_like(X)\n",
    "    # Loop through rows in X/col in Y\n",
    "    for i in range(size):\n",
    "        # Loop through rows in Y/col in X\n",
    "        for j in range(size):\n",
    "            # Loop through elements in each row/col and \n",
    "            for k in range(size):\n",
    "                # Fill in the resulting matrix with the value at i,j\n",
    "                result[i][j] += X[i][k] * Y[k][j]\n",
    "    return result"
   ]
  },
  {
   "cell_type": "code",
   "execution_count": null,
   "metadata": {},
   "outputs": [],
   "source": [
    "size = 200\n",
    "\n",
    "A = np.random.rand(size,size)\n",
    "B = np.random.rand(size,size)\n",
    "%time x = my_matMul_cy(A,B)"
   ]
  },
  {
   "cell_type": "markdown",
   "metadata": {},
   "source": [
    "\n",
    "<br/><br/>\n",
    "<br/><br/>\n",
    "<br/><br/>\n",
    "<br/><br/>\n",
    "<br/><br/>\n",
    "<br/><br/>\n",
    "<br/><br/>\n",
    "<br/><br/>\n",
    "<br/><br/>\n",
    "<br/><br/>\n",
    "<br/><br/>\n",
    "<br/><br/>\n",
    "<br/><br/>\n",
    "<br/><br/>\n",
    "<br/><br/>\n",
    "<br/><br/>\n",
    "### Final Fast solution"
   ]
  },
  {
   "cell_type": "code",
   "execution_count": null,
   "metadata": {},
   "outputs": [],
   "source": [
    "%%cython -a\n",
    "\n",
    "cimport cython\n",
    "import numpy as np\n",
    "cimport numpy as np\n",
    "\n",
    "from cython.view cimport array\n",
    "\n",
    "@cython.boundscheck(False)\n",
    "@cython.wraparound(False)\n",
    "def mat_mul_cy_fast(double [:,:] X, double [:,:] Y):\n",
    "    cdef int i,j,k = 0\n",
    "    cdef int size = X.shape[0]\n",
    "    cdef double [:,:] result = array(shape=(size,size), itemsize=sizeof(double), format=\"d\")\n",
    "    result[:,:] = 0.0\n",
    "    for i in range(size):\n",
    "        for k in range(size):\n",
    "            for j in range(size):\n",
    "                result[i][j] += X[i][k] * Y[k][j]\n",
    "    return np.asarray(result)"
   ]
  },
  {
   "cell_type": "code",
   "execution_count": null,
   "metadata": {},
   "outputs": [],
   "source": [
    "size = 200\n",
    "\n",
    "A = np.random.rand(size,size)\n",
    "B = np.random.rand(size,size)\n",
    "%time x = mat_mul_cy_fast(A,B)"
   ]
  },
  {
   "cell_type": "code",
   "execution_count": null,
   "metadata": {},
   "outputs": [],
   "source": [
    "# Still beat by numpy...\n",
    "size = 200\n",
    "\n",
    "A = np.random.rand(size,size)\n",
    "B = np.random.rand(size,size)\n",
    "%time x = np.matmul(A,B)"
   ]
  },
  {
   "cell_type": "code",
   "execution_count": null,
   "metadata": {},
   "outputs": [],
   "source": []
  }
 ],
 "metadata": {
  "kernelspec": {
   "display_name": "Python 3",
   "language": "python",
   "name": "python3"
  },
  "language_info": {
   "codemirror_mode": {
    "name": "ipython",
    "version": 3
   },
   "file_extension": ".py",
   "mimetype": "text/x-python",
   "name": "python",
   "nbconvert_exporter": "python",
   "pygments_lexer": "ipython3",
   "version": "3.8.4"
  }
 },
 "nbformat": 4,
 "nbformat_minor": 4
}
